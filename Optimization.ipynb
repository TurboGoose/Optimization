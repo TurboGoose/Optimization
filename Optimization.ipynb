{
  "nbformat": 4,
  "nbformat_minor": 0,
  "metadata": {
    "colab": {
      "name": "Optimization.ipynb",
      "provenance": [],
      "collapsed_sections": [],
      "include_colab_link": true
    },
    "kernelspec": {
      "display_name": "Python 3",
      "name": "python3"
    }
  },
  "cells": [
    {
      "cell_type": "markdown",
      "metadata": {
        "id": "view-in-github",
        "colab_type": "text"
      },
      "source": [
        "<a href=\"https://colab.research.google.com/github/TurboGoose/Optimization/blob/main/Optimization.ipynb\" target=\"_parent\"><img src=\"https://colab.research.google.com/assets/colab-badge.svg\" alt=\"Open In Colab\"/></a>"
      ]
    },
    {
      "cell_type": "markdown",
      "metadata": {
        "id": "HRY4g2n0MkmB"
      },
      "source": [
        "Коновалов Илья группа 19-Б05.ПУ"
      ]
    },
    {
      "cell_type": "code",
      "metadata": {
        "id": "juktLIjiC4mB"
      },
      "source": [
        "from math import exp, inf, log, sqrt\n",
        "from time import time\n",
        "import numpy as np\n",
        "import matplotlib.pyplot as plt"
      ],
      "execution_count": null,
      "outputs": []
    },
    {
      "cell_type": "code",
      "metadata": {
        "id": "1Usfsv-RVAgP"
      },
      "source": [
        "A = len(\"Коновалов\")  # 9\n",
        "B = len(\"Илья\")       # 4\n",
        "PRECISION = 5*1.e-7\n",
        "RESULTS = dict()\n",
        "call_count = 0\n",
        "\n",
        "def function(x):      # Функция c подсчетом вызовов\n",
        "    global call_count\n",
        "    call_count += 1\n",
        "    if x == 0:\n",
        "        res = inf\n",
        "    else:\n",
        "        res = -log(x, B) + exp(A * x)\n",
        "    return res\n",
        "\n",
        "\n",
        "def f(x):             # Функция без подсчета вызовов\n",
        "    if x == 0:\n",
        "        res = inf\n",
        "    else:\n",
        "        res = -log(x, B) + exp(A * x)\n",
        "    return res\n",
        "\n",
        "\n",
        "def first_derivative(x):    # Первая производная\n",
        "    global call_count\n",
        "    call_count += 1\n",
        "    if x == 0:\n",
        "        res = - inf\n",
        "    else:\n",
        "        res = -1 / (log(B) * x) + A * exp(A * x)\n",
        "    return res\n",
        "\n",
        "\n",
        "def second_derivative(x):   # Вторая производная\n",
        "    global call_count\n",
        "    call_count += 1\n",
        "    if x == 0:\n",
        "        res = inf\n",
        "    else:\n",
        "        res = 1 / (log(B) * x ** 2) + A ** 2 * exp(A * x)\n",
        "    return res\n",
        "\n",
        "def drop_call_counter():\n",
        "    global call_count\n",
        "    call_count = 0;\n",
        "\n",
        "\n",
        "def show_function():\n",
        "    x = np.arange(1e-2, 0.1, 1e-5)\n",
        "    fig = plt.figure(figsize=(7, 7), dpi=80, facecolor='w', edgecolor='k')\n",
        "    plt.title(\"Функция y(x)\")\n",
        "    plt.xlabel(\"x\")\n",
        "    plt.ylabel(\"y\")\n",
        "    plt.grid()\n",
        "    func = np.vectorize(lambda x: (inf if x==0 else -log(x, B) + exp(A * x)))\n",
        "    plt.plot(x, func(x))\n",
        "\n",
        "\n",
        "def truncate(f, n):\n",
        "    if f == inf:\n",
        "        return \"inf\"\n",
        "    s = '{}'.format(f)\n",
        "    if 'e' in s or 'E' in s:\n",
        "        return '{0:.{1}f}'.format(f, n)\n",
        "    i, p, d = s.partition('.')\n",
        "    return '.'.join([i, (d+'0'*n)[:n]])\n",
        "\n",
        "def p(x):\n",
        "    return truncate(x, 7)"
      ],
      "execution_count": null,
      "outputs": []
    },
    {
      "cell_type": "code",
      "metadata": {
        "colab": {
          "base_uri": "https://localhost:8080/"
        },
        "id": "ar29A41nCfhM",
        "outputId": "4135baec-e358-4530-e940-078f03a20c10"
      },
      "source": [
        "show_function()"
      ],
      "execution_count": null,
      "outputs": [
        {
          "output_type": "display_data",
          "data": {
            "image/png": "[encoded data removed]",
            "text/plain": [
              "<Figure size 560x560 with 1 Axes>"
            ]
          },
          "metadata": {
            "tags": []
          }
        }
      ]
    },
    {
      "cell_type": "markdown",
      "metadata": {
        "id": "7i-YfEFjMtAH"
      },
      "source": [
        "# **Метод пассивного поиска**\n"
      ]
    },
    {
      "cell_type": "code",
      "metadata": {
        "colab": {
          "base_uri": "https://localhost:8080/"
        },
        "id": "2gNjTAA9Mpwo",
        "outputId": "494df7dc-8448-4957-eedf-a645de5a2625"
      },
      "source": [
        "def passive_search(a=0, b=1):\n",
        "    start_time = time()\n",
        "    iterations = 0\n",
        "    x_min = a\n",
        "    min_y = inf\n",
        "    for x in np.arange(a, b, (b - a) / int((b - a)/PRECISION)):\n",
        "        y = function(x)\n",
        "        if y < min_y:\n",
        "            x_min = x\n",
        "            min_y = y\n",
        "        iterations += 1\n",
        "        if (call_count % 100000 == 0):\n",
        "            print(\"{}) {} ({}) {} ({}) [{}]\".format(str(iterations), p(x), p(y), p(x_min), p(min_y), str(call_count)))\n",
        "    elapsed_time_milliseconds = round((time() - start_time) * 1000, 3)\n",
        "    print(\"\\nКоличество итераций:\", iterations)\n",
        "    print(\"Количество вызовов функции:\", call_count)\n",
        "    print(\"Затраченное время (миллисекунды):\", elapsed_time_milliseconds)\n",
        "    RESULTS[\"Пассивный поиск\"] = (iterations, call_count, elapsed_time_milliseconds)\n",
        "    return x_min\n",
        "\n",
        "drop_call_counter()\n",
        "res_x = passive_search()\n",
        "print(\"Результат: x = {}, f(x) = {}\".format(truncate(res_x, 5), truncate(function(res_x), 3)))"
      ],
      "execution_count": null,
      "outputs": [
        {
          "output_type": "stream",
          "text": [
            "100000) 0.0499994 (3.7292763) 0.0499994 (3.7292763) [100000]\n",
            "200000) 0.0999994 (4.1205596) 0.0507580 (3.7291582) [200000]\n",
            "300000) 0.1499994 (5.2258933) 0.0507580 (3.7291582) [300000]\n",
            "400000) 0.1999995 (7.2105860) 0.0507580 (3.7291582) [400000]\n",
            "500000) 0.2499994 (10.4876945) 0.0507580 (3.7291582) [500000]\n",
            "600000) 0.2999995 (15.7481487) 0.0507580 (3.7291582) [600000]\n",
            "700000) 0.3499994 (24.0932471) 0.0507580 (3.7291582) [700000]\n",
            "800000) 0.3999995 (37.2590347) 0.0507580 (3.7291582) [800000]\n",
            "900000) 0.4499995 (57.9732011) 0.0507580 (3.7291582) [900000]\n",
            "1000000) 0.4999995 (90.5167269) 0.0507580 (3.7291582) [1000000]\n",
            "1100000) 0.5499995 (141.6055775) 0.0507580 (3.7291582) [1100000]\n",
            "1200000) 0.5999995 (221.7739032) 0.0507580 (3.7291582) [1200000]\n",
            "1300000) 0.6499995 (347.5435626) 0.0507580 (3.7291582) [1300000]\n",
            "1400000) 0.6999995 (544.8267466) 0.0507580 (3.7291582) [1400000]\n",
            "1500000) 0.7499994 (854.2624385) 0.0507580 (3.7291582) [1500000]\n",
            "1600000) 0.7999995 (1339.5857014) 0.0507580 (3.7291582) [1600000]\n",
            "1700000) 0.8499994 (2100.7533695) 0.0507580 (3.7291582) [1700000]\n",
            "1800000) 0.8999995 (3294.5292521) 0.0507580 (3.7291582) [1800000]\n",
            "1900000) 0.9499995 (5166.7681775) 0.0507580 (3.7291582) [1900000]\n",
            "2000000) 0.9999994 (8103.0474641) 0.0507580 (3.7291582) [2000000]\n",
            "\n",
            "Количество итераций: 2000000\n",
            "Количество вызовов функции: 2000000\n",
            "Затраченное время (миллисекунды): 2332.28\n",
            "Результат: x = 0.05075, f(x) = 3.729\n"
          ],
          "name": "stdout"
        }
      ]
    },
    {
      "cell_type": "markdown",
      "metadata": {
        "id": "IvsZjlyrSwOQ"
      },
      "source": [
        "# **Метод дихотомии**\n"
      ]
    },
    {
      "cell_type": "code",
      "metadata": {
        "colab": {
          "base_uri": "https://localhost:8080/"
        },
        "id": "4K_RkSDEQPkw",
        "outputId": "b67e9f18-8b4f-4a48-881a-2d4d130a99f3"
      },
      "source": [
        "def dichotomy_method(a=0, b=1):\n",
        "    start_time = time()\n",
        "    iterations = 0\n",
        "    delta = PRECISION / 2\n",
        "    while (b - a) / 2 > PRECISION:\n",
        "        print(\"{}) {} ({}) {} ({}) [{}]\".format(str(iterations), p(a), p(f(a)), p(b), p(f(b)), str(call_count)))\n",
        "        middle = (a + b) / 2\n",
        "        c = middle - delta\n",
        "        d = middle + delta\n",
        "        if function(c) > function(d):\n",
        "            a = c\n",
        "        else:\n",
        "            b = d\n",
        "        iterations += 1\n",
        "    print(\"{}) {} ({}) {} ({}) [{}]\".format(str(iterations), p(a), p(f(a)), p(b), p(f(b)), str(call_count)))\n",
        "    elapsed_time_milliseconds = round((time() - start_time) * 1000, 3)\n",
        "    print(\"\\nКоличество итераций:\", iterations)\n",
        "    print(\"Количество вызовов функции:\", call_count)\n",
        "    print(\"Затраченное время (миллисекунды):\", elapsed_time_milliseconds)\n",
        "    RESULTS[\"Дихотомия\"] = (iterations, call_count, elapsed_time_milliseconds)\n",
        "    return (a + b) / 2\n",
        "\n",
        "drop_call_counter()\n",
        "res_x = dichotomy_method()\n",
        "print(\"Результат: x = {}, f(x) = {}\".format(truncate(res_x, 5), truncate(function(res_x), 3)))"
      ],
      "execution_count": null,
      "outputs": [
        {
          "output_type": "stream",
          "text": [
            "0) 0.0000000 (inf) 1.0000000 (8103.0839275) [0]\n",
            "1) 0.0000000 (inf) 0.5000002 (90.5173334) [2]\n",
            "2) 0.0000000 (inf) 0.2500003 (10.4877667) [4]\n",
            "3) 0.0000000 (inf) 0.1250004 (4.5802264) [6]\n",
            "4) 0.0000000 (inf) 0.0625004 (3.7550566) [8]\n",
            "5) 0.0312499 (3.8247849) 0.0625004 (3.7550566) [10]\n",
            "6) 0.0468749 (3.7323366) 0.0625004 (3.7550566) [12]\n",
            "7) 0.0468749 (3.7323366) 0.0546879 (3.7322140) [14]\n",
            "8) 0.0468749 (3.7323366) 0.0507817 (3.7291583) [16]\n",
            "9) 0.0488281 (3.7299302) 0.0507817 (3.7291583) [18]\n",
            "10) 0.0498046 (3.7293451) 0.0507817 (3.7291583) [20]\n",
            "11) 0.0502929 (3.7292025) 0.0507817 (3.7291583) [22]\n",
            "12) 0.0505370 (3.7291682) 0.0507817 (3.7291583) [24]\n",
            "13) 0.0506591 (3.7291602) 0.0507817 (3.7291583) [26]\n",
            "14) 0.0507201 (3.7291585) 0.0507817 (3.7291583) [28]\n",
            "15) 0.0507507 (3.7291582) 0.0507817 (3.7291583) [30]\n",
            "16) 0.0507507 (3.7291582) 0.0507664 (3.7291582) [32]\n",
            "17) 0.0507507 (3.7291582) 0.0507588 (3.7291582) [34]\n",
            "18) 0.0507545 (3.7291582) 0.0507588 (3.7291582) [36]\n",
            "19) 0.0507564 (3.7291582) 0.0507588 (3.7291582) [38]\n",
            "20) 0.0507573 (3.7291582) 0.0507588 (3.7291582) [40]\n",
            "21) 0.0507578 (3.7291582) 0.0507588 (3.7291582) [42]\n",
            "\n",
            "Количество итераций: 21\n",
            "Количество вызовов функции: 42\n",
            "Затраченное время (миллисекунды): 0.942\n",
            "Результат: x = 0.05075, f(x) = 3.729\n"
          ],
          "name": "stdout"
        }
      ]
    },
    {
      "cell_type": "markdown",
      "metadata": {
        "id": "EWSI-bdzSzAj"
      },
      "source": [
        "# **Метод золотого сечения**"
      ]
    },
    {
      "cell_type": "code",
      "metadata": {
        "colab": {
          "base_uri": "https://localhost:8080/"
        },
        "id": "MAwlij_aQW84",
        "outputId": "8e57a7d9-c67a-4ee8-a811-df92e47b7796"
      },
      "source": [
        "def golden_ratio_method(a=0, b=1):\n",
        "    start_time = time()\n",
        "    iterations = 0\n",
        "    d_coef = (sqrt(5) - 1) / 2\n",
        "    c_coef = 1 - d_coef\n",
        "    c = c_coef * (b - a) + a\n",
        "    d = d_coef * (b - a) + a\n",
        "    f_c = function(c)\n",
        "    f_d = function(d)\n",
        "    while (b - a) / 2 > PRECISION:\n",
        "        print(\"{}) {} ({}) {} ({}) [{}]\".format(str(iterations), p(a), p(f(a)), p(b), p(f(b)), str(call_count)))\n",
        "        if f_c > f_d:\n",
        "            a = c\n",
        "            c = d\n",
        "            d = d_coef * (b - a) + a\n",
        "            f_c = f_d\n",
        "            f_d = function(d)\n",
        "        else:\n",
        "            b = d\n",
        "            d = c\n",
        "            c = c_coef * (b - a) + a\n",
        "            f_d = f_c\n",
        "            f_c = function(c)\n",
        "        iterations += 1\n",
        "    print(\"{}) {} ({}) {} ({}) [{}]\".format(str(iterations), p(a), p(f(a)), p(b), p(f(b)), str(call_count)))\n",
        "    elapsed_time_milliseconds = round((time() - start_time) * 1000, 3)\n",
        "    print(\"\\nКоличество итераций:\", iterations)\n",
        "    print(\"Количество вызовов функции:\", call_count)\n",
        "    print(\"Затраченное время (миллисекунды):\", elapsed_time_milliseconds)\n",
        "    RESULTS[\"Золотое сечение\"] = (iterations, call_count, elapsed_time_milliseconds)\n",
        "    return (a + b) / 2\n",
        "\n",
        "drop_call_counter()\n",
        "res_x = golden_ratio_method()\n",
        "print(\"Результат: x = {}, f(x) = {}\".format(truncate(res_x, 5), truncate(function(res_x), 3)))"
      ],
      "execution_count": null,
      "outputs": [
        {
          "output_type": "stream",
          "text": [
            "0) 0.0000000 (inf) 1.0000000 (8103.0839275) [2]\n",
            "1) 0.0000000 (inf) 0.6180339 (260.7697737) [3]\n",
            "2) 0.0000000 (inf) 0.3819660 (31.8093689) [4]\n",
            "3) 0.0000000 (inf) 0.2360679 (9.4110106) [5]\n",
            "4) 0.0000000 (inf) 0.1458980 (5.1060987) [6]\n",
            "5) 0.0000000 (inf) 0.0901699 (3.9869535) [7]\n",
            "6) 0.0344418 (3.7932400) 0.0901699 (3.9869535) [8]\n",
            "7) 0.0344418 (3.7932400) 0.0688837 (3.7886880) [9]\n",
            "8) 0.0344418 (3.7932400) 0.0557280 (3.7340091) [10]\n",
            "9) 0.0425724 (3.7438690) 0.0557280 (3.7340091) [11]\n",
            "10) 0.0475974 (3.7312505) 0.0557280 (3.7340091) [12]\n",
            "11) 0.0475974 (3.7312505) 0.0526224 (3.7298567) [13]\n",
            "12) 0.0495168 (3.7294757) 0.0526224 (3.7298567) [14]\n",
            "13) 0.0495168 (3.7294757) 0.0514362 (3.7292515) [15]\n",
            "14) 0.0502499 (3.7292111) 0.0514362 (3.7292515) [16]\n",
            "15) 0.0502499 (3.7292111) 0.0509831 (3.7291685) [17]\n",
            "16) 0.0505300 (3.7291689) 0.0509831 (3.7291685) [18]\n",
            "17) 0.0507030 (3.7291588) 0.0509831 (3.7291685) [19]\n",
            "18) 0.0507030 (3.7291588) 0.0508761 (3.7291611) [20]\n",
            "19) 0.0507030 (3.7291588) 0.0508100 (3.7291588) [21]\n",
            "20) 0.0507439 (3.7291583) 0.0508100 (3.7291588) [22]\n",
            "21) 0.0507439 (3.7291583) 0.0507848 (3.7291584) [23]\n",
            "22) 0.0507439 (3.7291583) 0.0507691 (3.7291582) [24]\n",
            "23) 0.0507535 (3.7291582) 0.0507691 (3.7291582) [25]\n",
            "24) 0.0507535 (3.7291582) 0.0507632 (3.7291582) [26]\n",
            "25) 0.0507535 (3.7291582) 0.0507595 (3.7291582) [27]\n",
            "26) 0.0507558 (3.7291582) 0.0507595 (3.7291582) [28]\n",
            "27) 0.0507572 (3.7291582) 0.0507595 (3.7291582) [29]\n",
            "28) 0.0507572 (3.7291582) 0.0507586 (3.7291582) [30]\n",
            "29) 0.0507578 (3.7291582) 0.0507586 (3.7291582) [31]\n",
            "\n",
            "Количество итераций: 29\n",
            "Количество вызовов функции: 31\n",
            "Затраченное время (миллисекунды): 1.288\n",
            "Результат: x = 0.05075, f(x) = 3.729\n"
          ],
          "name": "stdout"
        }
      ]
    },
    {
      "cell_type": "markdown",
      "metadata": {
        "id": "OkvSVupRUPMP"
      },
      "source": [
        "# **Метод Фибоначчи**"
      ]
    },
    {
      "cell_type": "code",
      "metadata": {
        "colab": {
          "base_uri": "https://localhost:8080/"
        },
        "id": "97tM8eY_QaTs",
        "outputId": "45ebd46f-2713-4180-ad92-e2a187ec1cb4"
      },
      "source": [
        "def fib(value):\n",
        "    f1, f2 = 1, 1\n",
        "    while f1 < value:\n",
        "        yield f1\n",
        "        f1, f2 = f2, f1 + f2\n",
        "    yield f1\n",
        "\n",
        "def fibonacci_method(a=0, b=1):\n",
        "    start_time = time()\n",
        "    iterations = 0\n",
        "    fibs = list(fib((b - a) / PRECISION))\n",
        "    n = len(fibs)\n",
        "    d = a + (b - a) * fibs[n - 2] / fibs[n - 1]\n",
        "    c = a + (b - a) * fibs[n - 3] / fibs[n - 1]\n",
        "    f_c = function(c)\n",
        "    f_d = function(d)\n",
        "    for i in range(2, n):\n",
        "        print(\"{}) {} ({}) {} ({}) [{}]\".format(str(iterations), p(a), p(f(a)), p(b), p(f(b)), str(call_count)))\n",
        "        if f_c > f_d:\n",
        "            a = c\n",
        "            c = d\n",
        "            d = a + (b - a) * fibs[n - 1 - i] / fibs[n - i]\n",
        "            f_c = f_d\n",
        "            f_d = function(d)\n",
        "        else:\n",
        "            b = d\n",
        "            d = c\n",
        "            c = a + (b - a) * fibs[n - 2 - i] / fibs[n - i]\n",
        "            f_d = f_c\n",
        "            f_c = function(c)\n",
        "        iterations += 1\n",
        "    print(\"{}) {} ({}) {} ({}) [{}]\".format(str(iterations), p(a), p(f(a)), p(b), p(f(b)), str(call_count))) \n",
        "    elapsed_time_milliseconds = round((time() - start_time) * 1000, 3)\n",
        "    print(\"\\nКоличество итераций:\", iterations)\n",
        "    print(\"Количество вызовов функции:\", call_count)\n",
        "    print(\"Затраченное время (миллисекунды):\", elapsed_time_milliseconds)\n",
        "    RESULTS[\"Фибоначчи\"] = (iterations, call_count, elapsed_time_milliseconds)\n",
        "    return (a + b) / 2\n",
        "\n",
        "drop_call_counter()\n",
        "res_x = fibonacci_method()\n",
        "print(\"Результат: x = {}, f(x) = {}\".format(truncate(res_x, 5), truncate(function(res_x), 3)))"
      ],
      "execution_count": null,
      "outputs": [
        {
          "output_type": "stream",
          "text": [
            "0) 0.0000000 (inf) 1.0000000 (8103.0839275) [2]\n",
            "1) 0.0000000 (inf) 0.6180339 (260.7697737) [3]\n",
            "2) 0.0000000 (inf) 0.3819660 (31.8093689) [4]\n",
            "3) 0.0000000 (inf) 0.2360679 (9.4110106) [5]\n",
            "4) 0.0000000 (inf) 0.1458980 (5.1060987) [6]\n",
            "5) 0.0000000 (inf) 0.0901699 (3.9869535) [7]\n",
            "6) 0.0344418 (3.7932400) 0.0901699 (3.9869535) [8]\n",
            "7) 0.0344418 (3.7932400) 0.0688837 (3.7886880) [9]\n",
            "8) 0.0344418 (3.7932400) 0.0557280 (3.7340091) [10]\n",
            "9) 0.0425724 (3.7438690) 0.0557280 (3.7340091) [11]\n",
            "10) 0.0475974 (3.7312505) 0.0557280 (3.7340091) [12]\n",
            "11) 0.0475974 (3.7312505) 0.0526224 (3.7298567) [13]\n",
            "12) 0.0495168 (3.7294757) 0.0526224 (3.7298567) [14]\n",
            "13) 0.0495168 (3.7294757) 0.0514362 (3.7292515) [15]\n",
            "14) 0.0502499 (3.7292111) 0.0514362 (3.7292515) [16]\n",
            "15) 0.0502499 (3.7292111) 0.0509831 (3.7291685) [17]\n",
            "16) 0.0505300 (3.7291689) 0.0509831 (3.7291685) [18]\n",
            "17) 0.0507030 (3.7291588) 0.0509831 (3.7291685) [19]\n",
            "18) 0.0507030 (3.7291588) 0.0508761 (3.7291611) [20]\n",
            "19) 0.0507030 (3.7291588) 0.0508100 (3.7291588) [21]\n",
            "20) 0.0507439 (3.7291583) 0.0508100 (3.7291588) [22]\n",
            "21) 0.0507439 (3.7291583) 0.0507848 (3.7291584) [23]\n",
            "22) 0.0507439 (3.7291583) 0.0507691 (3.7291582) [24]\n",
            "23) 0.0507535 (3.7291582) 0.0507691 (3.7291582) [25]\n",
            "24) 0.0507535 (3.7291582) 0.0507632 (3.7291582) [26]\n",
            "25) 0.0507535 (3.7291582) 0.0507595 (3.7291582) [27]\n",
            "26) 0.0507558 (3.7291582) 0.0507595 (3.7291582) [28]\n",
            "27) 0.0507572 (3.7291582) 0.0507595 (3.7291582) [29]\n",
            "28) 0.0507572 (3.7291582) 0.0507586 (3.7291582) [30]\n",
            "29) 0.0507577 (3.7291582) 0.0507586 (3.7291582) [31]\n",
            "30) 0.0507577 (3.7291582) 0.0507581 (3.7291582) [32]\n",
            "\n",
            "Количество итераций: 30\n",
            "Количество вызовов функции: 32\n",
            "Затраченное время (миллисекунды): 1.619\n",
            "Результат: x = 0.05075, f(x) = 3.729\n"
          ],
          "name": "stdout"
        }
      ]
    },
    {
      "cell_type": "markdown",
      "metadata": {
        "id": "a_SgjkVAUWUf"
      },
      "source": [
        "# **Метод касательных**"
      ]
    },
    {
      "cell_type": "code",
      "metadata": {
        "colab": {
          "base_uri": "https://localhost:8080/"
        },
        "id": "GUKXHphSQfsN",
        "outputId": "c737dad8-8992-4468-cf5b-c22df41a674e"
      },
      "source": [
        "def tangent_method(a=1.e-3, b=0.25):\n",
        "    start_time = time()\n",
        "    iterations = 0\n",
        "    f_a = function(a)\n",
        "    f_b = function(b)\n",
        "    df_a = first_derivative(a)\n",
        "    df_b = first_derivative(b)\n",
        "    while abs(b - a) > PRECISION:\n",
        "        print(\"{}) {} ({}) {} ({}) [{}]\".format(str(iterations), p(a), p(f(a)), p(b), p(f(b)), str(call_count)))\n",
        "        c = (f_b - f_a + df_a * a - df_b * b) / (df_a - df_b)\n",
        "        df_c = first_derivative(c)\n",
        "        f_c = function(c)\n",
        "        if df_c > 0:\n",
        "            b = c\n",
        "            df_b = df_c\n",
        "            f_b = f_c\n",
        "        elif df_c < 0:\n",
        "            a = c\n",
        "            df_a = df_c\n",
        "            f_a = f_c\n",
        "        else:\n",
        "            break\n",
        "        iterations += 1\n",
        "    print(\"{}) {} ({}) {} ({}) [{}]\".format(str(iterations), p(a), p(f(a)), p(b), p(f(b)), str(call_count)))\n",
        "    elapsed_time_milliseconds = round((time() - start_time) * 1000, 3)\n",
        "    print(\"\\nКоличество итераций:\", iterations)\n",
        "    print(\"Количество вызовов функции:\", call_count)\n",
        "    print(\"Затраченное время (миллисекунды):\", elapsed_time_milliseconds)\n",
        "    RESULTS[\"Касательные\"] = (iterations, call_count, elapsed_time_milliseconds)\n",
        "    return (a + b) / 2\n",
        "\n",
        "drop_call_counter()\n",
        "res_x = tangent_method()\n",
        "print(\"Результат: x = {}, f(x) = {}\".format(truncate(res_x, 5), truncate(function(res_x), 3)))"
      ],
      "execution_count": null,
      "outputs": [
        {
          "output_type": "stream",
          "text": [
            "0) 0.0010000 (5.9919327) 0.2500000 (10.4877358) [4]\n",
            "1) 0.0211916 (3.9903058) 0.2500000 (10.4877358) [6]\n",
            "2) 0.0211916 (3.9903058) 0.1383706 (4.9007965) [8]\n",
            "3) 0.0211916 (3.9903058) 0.0647360 (3.7653754) [10]\n",
            "4) 0.0368915 (3.7740693) 0.0647360 (3.7653754) [12]\n",
            "5) 0.0491744 (3.7296765) 0.0647360 (3.7653754) [14]\n",
            "6) 0.0491744 (3.7296765) 0.0565778 (3.7357699) [16]\n",
            "7) 0.0491744 (3.7296765) 0.0527748 (3.7299746) [18]\n",
            "8) 0.0491744 (3.7296765) 0.0509486 (3.7291656) [20]\n",
            "9) 0.0500550 (3.7292596) 0.0509486 (3.7291656) [22]\n",
            "10) 0.0505002 (3.7291718) 0.0509486 (3.7291656) [24]\n",
            "11) 0.0507240 (3.7291585) 0.0509486 (3.7291656) [26]\n",
            "12) 0.0507240 (3.7291585) 0.0508362 (3.7291595) [28]\n",
            "13) 0.0507240 (3.7291585) 0.0507801 (3.7291583) [30]\n",
            "14) 0.0507520 (3.7291582) 0.0507801 (3.7291583) [32]\n",
            "15) 0.0507520 (3.7291582) 0.0507660 (3.7291582) [34]\n",
            "16) 0.0507520 (3.7291582) 0.0507590 (3.7291582) [36]\n",
            "17) 0.0507555 (3.7291582) 0.0507590 (3.7291582) [38]\n",
            "18) 0.0507573 (3.7291582) 0.0507590 (3.7291582) [40]\n",
            "19) 0.0507573 (3.7291582) 0.0507582 (3.7291582) [42]\n",
            "20) 0.0507577 (3.7291582) 0.0507582 (3.7291582) [44]\n",
            "\n",
            "Количество итераций: 20\n",
            "Количество вызовов функции: 44\n",
            "Затраченное время (миллисекунды): 2.081\n",
            "Результат: x = 0.05075, f(x) = 3.729\n"
          ],
          "name": "stdout"
        }
      ]
    },
    {
      "cell_type": "markdown",
      "metadata": {
        "id": "r6Mdra89UlXx"
      },
      "source": [
        "# **Метод Ньютона-Рафсона**"
      ]
    },
    {
      "cell_type": "code",
      "metadata": {
        "colab": {
          "base_uri": "https://localhost:8080/"
        },
        "id": "EWpFwGArQh6-",
        "outputId": "e7ad8654-5ac9-4c82-e808-2ab7c1eb79b5"
      },
      "source": [
        "def newton_raphson_method(x=1):\n",
        "    start_time = time()\n",
        "    iterations = 0\n",
        "    df_x = first_derivative(x)\n",
        "    while abs(df_x) > PRECISION:\n",
        "        d2f_x = second_derivative(x)\n",
        "        print(\"{}) {} | {} | {} [{}]\".format(str(iterations), p(x), p(df_x), p(d2f_x), str(call_count)))\n",
        "        x = x - df_x / d2f_x\n",
        "        df_x = first_derivative(x)\n",
        "        iterations += 1\n",
        "    print(\"{}) {} | {} | {} [{}]\".format(str(iterations), p(x), p(df_x), p(d2f_x), str(call_count)))\n",
        "    elapsed_time_milliseconds = round((time() - start_time) * 1000, 3)\n",
        "    print(\"\\nКоличество итераций:\", iterations)\n",
        "    print(\"Количество вызовов функции:\", call_count)\n",
        "    print(\"Затраченное время (миллисекунды):\", elapsed_time_milliseconds)\n",
        "    RESULTS[\"Ньютон-Рафсон\"] = (iterations, call_count, elapsed_time_milliseconds)\n",
        "    return x\n",
        "\n",
        "drop_call_counter()\n",
        "res_x = newton_raphson_method()\n",
        "print(\"Результат: x = {}, f(x) = {}\".format(truncate(res_x, 5), truncate(function(res_x), 3)))"
      ],
      "execution_count": null,
      "outputs": [
        {
          "output_type": "stream",
          "text": [
            "0) 1.0000000 | 72927.0340006 | 656350.5194811 [2]\n",
            "1) 0.8888901 | 26828.1052241 | 241461.1636042 [4]\n",
            "2) 0.7777827 | 9869.2153178 | 88832.4772442 [6]\n",
            "3) 0.6666836 | 3630.3305512 | 32684.3358550 [8]\n",
            "4) 0.5556111 | 1335.0881618 | 12029.8148163 [10]\n",
            "5) 0.4446295 | 490.5800995 | 4433.4708860 [12]\n",
            "6) 0.3339757 | 179.6581842 | 1642.8297515 [14]\n",
            "7) 0.2246167 | 64.7387852 | 625.8496935 [16]\n",
            "8) 0.1211753 | 20.8310295 | 290.1820673 [18]\n",
            "9) 0.0493893 | -0.5678967 | 422.0556975 [20]\n",
            "10) 0.0507348 | -0.0095194 | 408.1173008 [22]\n",
            "11) 0.0507581 | -0.0000027 | 407.8866456 [24]\n",
            "12) 0.0507581 | -0.0000000 | 407.8866456 [25]\n",
            "\n",
            "Количество итераций: 12\n",
            "Количество вызовов функции: 25\n",
            "Затраченное время (миллисекунды): 0.726\n",
            "Результат: x = 0.05075, f(x) = 3.729\n"
          ],
          "name": "stdout"
        }
      ]
    },
    {
      "cell_type": "markdown",
      "metadata": {
        "id": "gZOlsOu6Us5j"
      },
      "source": [
        "# **Метод секущих**"
      ]
    },
    {
      "cell_type": "code",
      "metadata": {
        "colab": {
          "base_uri": "https://localhost:8080/"
        },
        "id": "6Yg3YisQQjxc",
        "outputId": "8cc088c3-561f-4028-c492-4ad52a3f6ed7"
      },
      "source": [
        "def secant_method(x1=1.e-3, x2=5*1.e-3):\n",
        "    start_time = time()\n",
        "    iterations = 0\n",
        "    df_x1 = first_derivative(x1)\n",
        "    df_x2 = first_derivative(x2)\n",
        "    while abs(x2 - x1) > PRECISION:\n",
        "        print(\"{}) {} ({}) {} ({}) [{}]\".format(str(iterations), p(x1), p(df_x1), p(x2), p(df_x2), str(call_count)))\n",
        "        x1, x2 = x2, x2 - (x2 - x1) / (df_x2 - df_x1) * df_x2\n",
        "        df_x1 = df_x2\n",
        "        df_x2 = first_derivative(x2)\n",
        "        iterations += 1\n",
        "    print(\"{}) {} ({}) {} ({}) [{}]\".format(str(iterations), p(x1), p(df_x1), p(x2), p(df_x2), str(call_count)))\n",
        "    elapsed_time_milliseconds = round((time() - start_time) * 1000, 3)\n",
        "    print(\"\\nКоличество итераций:\", iterations)\n",
        "    print(\"Количество вызовов функции:\", call_count)\n",
        "    print(\"Затраченное время (миллисекунды):\", elapsed_time_milliseconds)\n",
        "    RESULTS[\"Секущие\"] = (iterations, call_count, elapsed_time_milliseconds)\n",
        "    return (x1 + x2) / 2\n",
        "\n",
        "drop_call_counter()\n",
        "res_x = secant_method()\n",
        "print(\"Результат: x = {}, f(x) = {}\".format(truncate(res_x, 5), truncate(function(res_x), 3)))"
      ],
      "execution_count": null,
      "outputs": [
        {
          "output_type": "stream",
          "text": [
            "0) 0.0010000 (-712.2661548) 0.0050000 (-134.8552533) [2]\n",
            "1) 0.0050000 (-134.8552533) 0.0059342 (-112.0637980) [3]\n",
            "2) 0.0059342 (-112.0637980) 0.0105276 (-58.6250399) [4]\n",
            "3) 0.0105276 (-58.6250399) 0.0155668 (-35.9852023) [5]\n",
            "4) 0.0155668 (-35.9852023) 0.0235764 (-19.4686201) [6]\n",
            "5) 0.0235764 (-19.4686201) 0.0330177 (-9.7330120) [7]\n",
            "6) 0.0330177 (-9.7330120) 0.0424564 (-3.8019662) [8]\n",
            "7) 0.0424564 (-3.8019662) 0.0485069 (-0.9446175) [9]\n",
            "8) 0.0485069 (-0.9446175) 0.0505071 (-0.1027024) [10]\n",
            "9) 0.0505071 (-0.1027024) 0.0507511 (-0.0028641) [11]\n",
            "10) 0.0507511 (-0.0028641) 0.0507581 (-0.0000087) [12]\n",
            "11) 0.0507581 (-0.0000087) 0.0507581 (-0.0000000) [13]\n",
            "\n",
            "Количество итераций: 11\n",
            "Количество вызовов функции: 13\n",
            "Затраченное время (миллисекунды): 0.737\n",
            "Результат: x = 0.05075, f(x) = 3.729\n"
          ],
          "name": "stdout"
        }
      ]
    },
    {
      "cell_type": "markdown",
      "metadata": {
        "id": "-T6MedlJqEFe"
      },
      "source": [
        "# **Результаты**"
      ]
    },
    {
      "cell_type": "markdown",
      "metadata": {
        "id": "gzObpdK6Y9pB"
      },
      "source": [
        "Все результаты"
      ]
    },
    {
      "cell_type": "code",
      "metadata": {
        "colab": {
          "base_uri": "https://localhost:8080/"
        },
        "id": "XYDAUiniqHfK",
        "outputId": "b86ed663-65ca-4ffe-d9ec-edcdaea02e56"
      },
      "source": [
        "def show_all_results():\n",
        "    fig, ax = plt.subplots()\n",
        "    for method, (iter, oper, time) in RESULTS.items():\n",
        "        ax.bar(method, oper)\n",
        "    plt.xlabel('Методы')\n",
        "    plt.ylabel('Вызовы функции')\n",
        "    ax.set_facecolor('seashell')\n",
        "    fig.set_facecolor('floralwhite')\n",
        "    fig.set_figwidth(12)\n",
        "    fig.set_figheight(6)\n",
        "    rects = ax.patches\n",
        "    for rect, stats in zip(rects, RESULTS.values()):\n",
        "        height = rect.get_height()\n",
        "        ax.text(rect.get_x() + rect.get_width() / 2, height, \"{:.1f} ms\".format(stats[2]), ha='center', va='bottom')\n",
        "    plt.show()\n",
        "\n",
        "show_all_results()"
      ],
      "execution_count": null,
      "outputs": [
        {
          "output_type": "display_data",
          "data": {
            "image/png": "[encoded data removed]",
            "text/plain": [
              "<Figure size 864x432 with 1 Axes>"
            ]
          },
          "metadata": {
            "tags": []
          }
        }
      ]
    },
    {
      "cell_type": "markdown",
      "metadata": {
        "id": "SI9YnpS1ZBGW"
      },
      "source": [
        "Результаты без учета метода пассивного поиска"
      ]
    },
    {
      "cell_type": "code",
      "metadata": {
        "colab": {
          "base_uri": "https://localhost:8080/"
        },
        "id": "Ou4aFOrBqbw_",
        "outputId": "958264da-534d-4e6d-ef02-b9031c86d3b6"
      },
      "source": [
        "def show_results_without_passive_search():\n",
        "    RESULTS.pop(\"Пассивный поиск\", None)\n",
        "    fig, ax = plt.subplots()\n",
        "    for method, (iter, oper, time) in RESULTS.items():\n",
        "        ax.bar(method, oper)\n",
        "    plt.xlabel('Методы')\n",
        "    plt.ylabel('Вызовы функции')\n",
        "    ax.set_facecolor('seashell')\n",
        "    fig.set_facecolor('floralwhite')\n",
        "    fig.set_figwidth(12)\n",
        "    fig.set_figheight(6)\n",
        "    rects = ax.patches\n",
        "    for rect, stats in zip(rects, RESULTS.values()):\n",
        "        height = rect.get_height()\n",
        "        ax.text(rect.get_x() + rect.get_width() / 2, height, \"{:.1f} ms\".format(stats[2]), ha='center', va='bottom')\n",
        "    plt.show()\n",
        "\n",
        "show_results_without_passive_search()"
      ],
      "execution_count": null,
      "outputs": [
        {
          "output_type": "display_data",
          "data": {
            "image/png": "[encoded data removed]",
            "text/plain": [
              "<Figure size 864x432 with 1 Axes>"
            ]
          },
          "metadata": {
            "tags": []
          }
        }
      ]
    }
  ]
}