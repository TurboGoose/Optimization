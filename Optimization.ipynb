{
  "nbformat": 4,
  "nbformat_minor": 0,
  "metadata": {
    "colab": {
      "name": "Optimization.ipynb",
      "provenance": [],
      "collapsed_sections": [],
      "include_colab_link": true
    },
    "kernelspec": {
      "display_name": "Python 3",
      "name": "python3"
    }
  },
  "cells": [
    {
      "cell_type": "markdown",
      "metadata": {
        "id": "view-in-github",
        "colab_type": "text"
      },
      "source": [
        "<a href=\"https://colab.research.google.com/github/TurboGoose/Optimization/blob/main/Optimization.ipynb\" target=\"_parent\"><img src=\"https://colab.research.google.com/assets/colab-badge.svg\" alt=\"Open In Colab\"/></a>"
      ]
    },
    {
      "cell_type": "markdown",
      "metadata": {
        "id": "HRY4g2n0MkmB"
      },
      "source": [
        "Коновалов Илья группа 19-Б05.ПУ"
      ]
    },
    {
      "cell_type": "code",
      "metadata": {
        "id": "juktLIjiC4mB"
      },
      "source": [
        "from math import exp, inf, log, sqrt\n",
        "from time import time\n",
        "import numpy as np\n",
        "import matplotlib.pyplot as plt"
      ],
      "execution_count": null,
      "outputs": []
    },
    {
      "cell_type": "code",
      "metadata": {
        "id": "1Usfsv-RVAgP"
      },
      "source": [
        "A = len(\"Коновалов\")  # 9\n",
        "B = len(\"Илья\")       # 4\n",
        "PRECISION = 5*1.e-7\n",
        "RESULTS = dict()\n",
        "call_count = 0\n",
        "\n",
        "def function(x):      # Функция c подсчетом вызовов\n",
        "    global call_count\n",
        "    call_count += 1\n",
        "    if x == 0:\n",
        "        res = inf\n",
        "    else:\n",
        "        res = -log(x, B) + exp(A * x)\n",
        "    return res\n",
        "\n",
        "\n",
        "def f(x):             # Функция без подсчета вызовов\n",
        "    if x == 0:\n",
        "        res = inf\n",
        "    else:\n",
        "        res = -log(x, B) + exp(A * x)\n",
        "    return res\n",
        "\n",
        "\n",
        "def first_derivative(x):    # Первая производная\n",
        "    global call_count\n",
        "    call_count += 1\n",
        "    if x == 0:\n",
        "        res = - inf\n",
        "    else:\n",
        "        res = -1 / (log(B) * x) + A * exp(A * x)\n",
        "    return res\n",
        "\n",
        "\n",
        "def second_derivative(x):   # Вторая производная\n",
        "    global call_count\n",
        "    call_count += 1\n",
        "    if x == 0:\n",
        "        res = inf\n",
        "    else:\n",
        "        res = 1 / (log(B) * x ** 2) + A ** 2 * exp(A * x)\n",
        "    return res\n",
        "\n",
        "def drop_call_counter():\n",
        "    global call_count\n",
        "    call_count = 0;\n",
        "\n",
        "\n",
        "def show_function():\n",
        "    x = np.arange(1e-2, 0.1, 1e-5)\n",
        "    fig = plt.figure(figsize=(8, 8), dpi=80, facecolor='w', edgecolor='k')\n",
        "    plt.title(\"Функция y(x)\")\n",
        "    plt.xlabel(\"x\")\n",
        "    plt.ylabel(\"y\")\n",
        "    plt.grid()\n",
        "    func = np.vectorize(lambda x: (inf if x==0 else -log(x, B) + exp(A * x)))\n",
        "    plt.plot(x, func(x))\n",
        "\n",
        "\n",
        "def truncate(f, n):\n",
        "    s = '{}'.format(f)\n",
        "    if 'e' in s or 'E' in s:\n",
        "        return '{0:.{1}f}'.format(f, n)\n",
        "    i, p, d = s.partition('.')\n",
        "    return '.'.join([i, (d+'0'*n)[:n]])"
      ],
      "execution_count": null,
      "outputs": []
    },
    {
      "cell_type": "code",
      "metadata": {
        "colab": {
          "base_uri": "https://localhost:8080/",
          "height": 564
        },
        "id": "ar29A41nCfhM",
        "outputId": "8013cee2-4160-4b7a-d04a-646a628ac4da"
      },
      "source": [
        "show_function()"
      ],
      "execution_count": null,
      "outputs": [
        {
          "output_type": "display_data",
          "data": {
            "image/png": "[encoded data removed]",
            "text/plain": [
              "<Figure size 640x640 with 1 Axes>"
            ]
          },
          "metadata": {
            "tags": []
          }
        }
      ]
    },
    {
      "cell_type": "markdown",
      "metadata": {
        "id": "7i-YfEFjMtAH"
      },
      "source": [
        "# **Метод пассивного поиска**\n"
      ]
    },
    {
      "cell_type": "code",
      "metadata": {
        "colab": {
          "base_uri": "https://localhost:8080/"
        },
        "id": "2gNjTAA9Mpwo",
        "outputId": "4fa21dfb-7a5f-480c-fe6f-74f6e17dea9f"
      },
      "source": [
        "def passive_search(a=0, b=1, precision=PRECISION):\n",
        "    print(\" \"*10 + \"x\" + \" \"*23 + \"f(x)\\n\" + \"-\"*45)\n",
        "    start_time = time()\n",
        "    iterations = int((b - a) / precision)\n",
        "    x_min = a\n",
        "    min_y = inf\n",
        "    for x in np.arange(a, b, (b - a) / iterations):\n",
        "        y = function(x)\n",
        "        if y < min_y:\n",
        "            x_min = x\n",
        "            min_y = y\n",
        "        if (call_count % 100000 == 0):\n",
        "            print(\"{} | {}\".format(str(x).ljust(21), str(y).ljust(21))) \n",
        "    elapsed_time_milliseconds = round((time() - start_time) * 1000, 3)\n",
        "    print(\"\\nКоличество итераций:\", iterations)\n",
        "    print(\"Количество вызовов функции:\", call_count)\n",
        "    print(\"Затраченное время (миллисекунды):\", elapsed_time_milliseconds)\n",
        "    RESULTS[\"Пассивный поиск\"] = (iterations, call_count, elapsed_time_milliseconds)\n",
        "    return x_min\n",
        "\n",
        "drop_call_counter()\n",
        "res_x = passive_search()\n",
        "print(\"Результат: x = {}, f(x) = {}\".format(truncate(res_x, 5), truncate(function(res_x), 3)))"
      ],
      "execution_count": null,
      "outputs": [
        {
          "output_type": "stream",
          "text": [
            "          x                       f(x)\n",
            "---------------------------------------------\n",
            "0.049999499999999995  | 3.7292763890561664   \n",
            "0.09999949999999999   | 4.1205596971581535   \n",
            "0.14999949999999998   | 5.2258933738999875   \n",
            "0.1999995             | 7.210586091875347    \n",
            "0.24999949999999999   | 10.487694584339806   \n",
            "0.2999995             | 15.748148765560702   \n",
            "0.34999949999999996   | 24.093247185800443   \n",
            "0.3999995             | 37.25903470112219    \n",
            "0.4499995             | 57.97320110569083    \n",
            "0.4999995             | 90.51672694569025    \n",
            "0.5499995             | 141.6055775294644    \n",
            "0.5999995             | 221.77390327576222   \n",
            "0.6499995             | 347.543562670794     \n",
            "0.6999995             | 544.8267466595104    \n",
            "0.7499994999999999    | 854.2624385009045    \n",
            "0.7999995             | 1339.5857014678256   \n",
            "0.8499994999999999    | 2100.7533695874326   \n",
            "0.8999995             | 3294.5292521583315   \n",
            "0.9499995             | 5166.768177503759    \n",
            "0.9999994999999999    | 8103.047464140419    \n",
            "\n",
            "Количество итераций: 2000000\n",
            "Количество вызовов функции: 2000000\n",
            "Затраченное время (миллисекунды): 3195.87\n",
            "Результат: x = 0.05075, f(x) = 3.729\n"
          ],
          "name": "stdout"
        }
      ]
    },
    {
      "cell_type": "markdown",
      "metadata": {
        "id": "IvsZjlyrSwOQ"
      },
      "source": [
        "# **Метод дихотомии**\n"
      ]
    },
    {
      "cell_type": "code",
      "metadata": {
        "colab": {
          "base_uri": "https://localhost:8080/"
        },
        "id": "4K_RkSDEQPkw",
        "outputId": "91bc1b7c-4d0e-4391-926d-4ab486019d88"
      },
      "source": [
        "def dichotomy_method(a=0, b=1, precision=PRECISION):\n",
        "    print(\" \"*10 + \"a\" + \" \"*23 + \"b\" + \" \"*18 + \"f(a)\" + \" \"*18 + \"f(b)\\n\" + \"-\"*85)\n",
        "    start_time = time()\n",
        "    iterations = 0\n",
        "    delta = precision / 2\n",
        "    while (b - a) / 2 > precision:\n",
        "        print(\"{} | {} | {} | {}\".format(str(a).ljust(20), str(b).ljust(20), str(f(a)).ljust(18), str(f(b))))\n",
        "        middle = (a + b) / 2\n",
        "        c = middle - delta\n",
        "        d = middle + delta\n",
        "        if function(c) > function(d):\n",
        "            a = c\n",
        "        else:\n",
        "            b = d\n",
        "        iterations += 1\n",
        "    elapsed_time_milliseconds = round((time() - start_time) * 1000, 3)\n",
        "    print(\"\\nКоличество итераций:\", iterations)\n",
        "    print(\"Количество вызовов функции:\", call_count)\n",
        "    print(\"Затраченное время (миллисекунды):\", elapsed_time_milliseconds)\n",
        "    RESULTS[\"Дихотомия\"] = (iterations, call_count, elapsed_time_milliseconds)\n",
        "    return (a + b) / 2\n",
        "\n",
        "drop_call_counter()\n",
        "res_x = dichotomy_method()\n",
        "print(\"Результат: x = {}, f(x) = {}\".format(truncate(res_x, 5), truncate(function(res_x), 3)))"
      ],
      "execution_count": null,
      "outputs": [
        {
          "output_type": "stream",
          "text": [
            "          a                       b                  f(a)                  f(b)\n",
            "-------------------------------------------------------------------------------------\n",
            "0                    | 1                    | inf                | 8103.083927575384\n",
            "0                    | 0.50000025           | inf                | 90.51733347862148\n",
            "0                    | 0.250000375          | inf                | 10.487766775500539\n",
            "0                    | 0.1250004375         | inf                | 4.580226452583849\n",
            "0                    | 0.06250046875        | inf                | 3.755056651026635\n",
            "0.031249984374999998 | 0.06250046875        | 3.824784933104872  | 3.755056651026635\n",
            "0.0468749765625      | 0.06250046875        | 3.732336699203355  | 3.755056651026635\n",
            "0.0468749765625      | 0.05468797265624999  | 3.732336699203355  | 3.732214083415445\n",
            "0.0468749765625      | 0.050781724609374995 | 3.732336699203355  | 3.7291583844881737\n",
            "0.0488281005859375   | 0.050781724609374995 | 3.7299302386967588 | 3.7291583844881737\n",
            "0.04980466259765625  | 0.050781724609374995 | 3.729345147088805  | 3.7291583844881737\n",
            "0.050292943603515626 | 0.050781724609374995 | 3.7292025813147545 | 3.7291583844881737\n",
            "0.050537084106445314 | 0.050781724609374995 | 3.7291682588792234 | 3.7291583844881737\n",
            "0.05065915435791015  | 0.050781724609374995 | 3.729160272999648  | 3.7291583844881737\n",
            "0.050720189483642576 | 0.050781724609374995 | 3.7291585659216135 | 3.7291583844881737\n",
            "0.05075070704650878  | 0.050781724609374995 | 3.729158282859073  | 3.7291583844881737\n",
            "0.05075070704650878  | 0.050766465827941885 | 3.729158282859073  | 3.7291582854622254\n",
            "0.05075070704650878  | 0.050758836437225334 | 3.729158282859073  | 3.7291582715530645\n",
            "0.05075452174186706  | 0.050758836437225334 | 3.729158274196721  | 3.7291582715530645\n",
            "0.050756429089546196 | 0.050758836437225334 | 3.729158272091598  | 3.7291582715530645\n",
            "0.05075738276338577  | 0.050758836437225334 | 3.7291582715955203 | 3.7291582715530645\n",
            "\n",
            "Количество итераций: 21\n",
            "Количество вызовов функции: 42\n",
            "Затраченное время (миллисекунды): 1.888\n",
            "Результат: x = 0.05075, f(x) = 3.729\n"
          ],
          "name": "stdout"
        }
      ]
    },
    {
      "cell_type": "markdown",
      "metadata": {
        "id": "EWSI-bdzSzAj"
      },
      "source": [
        "# **Метод золотого сечения**"
      ]
    },
    {
      "cell_type": "code",
      "metadata": {
        "colab": {
          "base_uri": "https://localhost:8080/"
        },
        "id": "MAwlij_aQW84",
        "outputId": "022c483c-84f4-4797-ff0d-40449b85f76c"
      },
      "source": [
        "def golden_ratio_method(a=0, b=1, precision=PRECISION):\n",
        "    print(\" \"*10 + \"a\" + \" \"*23 + \"b\" + \" \"*18 + \"f(a)\" + \" \"*18 + \"f(b)\\n\" + \"-\"*85)\n",
        "    start_time = time()\n",
        "    iterations = 0\n",
        "    d_coef = (sqrt(5) - 1) / 2\n",
        "    c_coef = 1 - d_coef\n",
        "    c = c_coef * (b - a) + a\n",
        "    d = d_coef * (b - a) + a\n",
        "    f_c = function(c)\n",
        "    f_d = function(d)\n",
        "    while (b - a) / 2 > precision:\n",
        "        print(\"{} | {} | {} | {}\".format(str(a).ljust(20), str(b).ljust(20), str(f(a)).ljust(18), str(f(b))))\n",
        "        if f_c > f_d:\n",
        "            a = c\n",
        "            c = d\n",
        "            d = d_coef * (b - a) + a\n",
        "            f_c = f_d\n",
        "            f_d = function(d)\n",
        "        else:\n",
        "            b = d\n",
        "            d = c\n",
        "            c = c_coef * (b - a) + a\n",
        "            f_d = f_c\n",
        "            f_c = function(c)\n",
        "        iterations += 1\n",
        "    elapsed_time_milliseconds = round((time() - start_time) * 1000, 3)\n",
        "    print(\"\\nКоличество итераций:\", iterations)\n",
        "    print(\"Количество вызовов функции:\", call_count)\n",
        "    print(\"Затраченное время (миллисекунды):\", elapsed_time_milliseconds)\n",
        "    RESULTS[\"Золотое сечение\"] = (iterations, call_count, elapsed_time_milliseconds)\n",
        "    return (a + b) / 2\n",
        "\n",
        "drop_call_counter()\n",
        "res_x = golden_ratio_method()\n",
        "print(\"Результат: x = {}, f(x) = {}\".format(truncate(res_x, 5), truncate(function(res_x), 3)))"
      ],
      "execution_count": null,
      "outputs": [
        {
          "output_type": "stream",
          "text": [
            "          a                       b                  f(a)                  f(b)\n",
            "-------------------------------------------------------------------------------------\n",
            "0                    | 1                    | inf                | 8103.083927575384\n",
            "0                    | 0.6180339887498949   | inf                | 260.7697737252375\n",
            "0                    | 0.3819660112501051   | inf                | 31.80936896358413\n",
            "0                    | 0.2360679774997897   | inf                | 9.411010609641353\n",
            "0                    | 0.1458980337503154   | inf                | 5.106098716145986\n",
            "0                    | 0.09016994374947422  | inf                | 3.9869535626226273\n",
            "0.03444185374863301  | 0.09016994374947422  | 3.7932400222323563 | 3.9869535626226273\n",
            "0.03444185374863301  | 0.06888370749726604  | 3.7932400222323563 | 3.788688055067025\n",
            "0.03444185374863301  | 0.05572809000084119  | 3.7932400222323563 | 3.7340091512240257\n",
            "0.042572472504416356 | 0.05572809000084119  | 3.7438690070462117 | 3.7340091512240257\n",
            "0.04759747124505785  | 0.05572809000084119  | 3.7312505791543362 | 3.7340091512240257\n",
            "0.04759747124505785  | 0.05262246998569933  | 3.7312505791543362 | 3.729856744718126\n",
            "0.049516849970557476 | 0.05262246998569933  | 3.729475745149507  | 3.729856744718126\n",
            "0.049516849970557476 | 0.05143622869605711  | 3.729475745149507  | 3.7292515264755832\n",
            "0.050249987406414884 | 0.05143622869605711  | 3.7292111600450255 | 3.7292515264755832\n",
            "0.050249987406414884 | 0.050983124842272284 | 3.7292111600450255 | 3.729168572249124\n",
            "0.05053002098848747  | 0.050983124842272284 | 3.729168907793135  | 3.729168572249124\n",
            "0.0507030912601997   | 0.050983124842272284 | 3.729158890688907  | 3.729168572249124\n",
            "0.0507030912601997   | 0.05087616153191194  | 3.729158890688907  | 3.7291611075261857\n",
            "0.0507030912601997   | 0.050810054570560044 | 3.729158890688907  | 3.72915882001592\n",
            "0.05074394760920815  | 0.050810054570560044 | 3.729158312788173  | 3.72915882001592\n",
            "0.05074394760920815  | 0.05078480395821659  | 3.729158312788173  | 3.729158415983576\n",
            "0.05074394760920815  | 0.0507691982215516   | 3.729158312788173  | 3.729158296216868\n",
            "0.050753592484886596 | 0.0507691982215516   | 3.729158275759958  | 3.729158296216868\n",
            "0.050753592484886596 | 0.050763237360565046 | 3.729158275759958  | 3.729158276679051\n",
            "0.050753592484886596 | 0.05075955334587315  | 3.729158275759958  | 3.7291582718494816\n",
            "0.050755869331181244 | 0.05075955334587315  | 3.7291582725555497 | 3.7291582718494816\n",
            "0.050757276499578494 | 0.05075955334587315  | 3.7291582716324307 | 3.7291582718494816\n",
            "0.050757276499578494 | 0.05075868366797575  | 3.7291582716324307 | 3.7291582715169946\n",
            "\n",
            "Количество итераций: 29\n",
            "Количество вызовов функции: 31\n",
            "Затраченное время (миллисекунды): 1.819\n",
            "Результат: x = 0.05075, f(x) = 3.729\n"
          ],
          "name": "stdout"
        }
      ]
    },
    {
      "cell_type": "markdown",
      "metadata": {
        "id": "OkvSVupRUPMP"
      },
      "source": [
        "# **Метод Фибоначчи**"
      ]
    },
    {
      "cell_type": "code",
      "metadata": {
        "colab": {
          "base_uri": "https://localhost:8080/"
        },
        "id": "97tM8eY_QaTs",
        "outputId": "9fd8763e-1bb3-45f3-ca1d-70ec91d11015"
      },
      "source": [
        "def fib(value):\n",
        "    f1, f2 = 1, 1\n",
        "    while f1 < value:\n",
        "        yield f1\n",
        "        f1, f2 = f2, f1 + f2\n",
        "    yield f1\n",
        "\n",
        "def fibonacci_method(a=0, b=1, precision=PRECISION):\n",
        "    print(\" \"*10 + \"a\" + \" \"*23 + \"b\" + \" \"*18 + \"f(a)\" + \" \"*18 + \"f(b)\\n\" + \"-\"*85)\n",
        "    start_time = time()\n",
        "    iterations = 0\n",
        "    fibs = list(fib((b - a) / precision))\n",
        "    n = len(fibs)\n",
        "    d = a + (b - a) * fibs[n - 2] / fibs[n - 1]\n",
        "    c = a + (b - a) * fibs[n - 3] / fibs[n - 1]\n",
        "    f_c = function(c)\n",
        "    f_d = function(d)\n",
        "    for i in range(2, n):\n",
        "        print(\"{} | {} | {} | {}\".format(str(a).ljust(20), str(b).ljust(20), str(f(a)).ljust(18), str(f(b))))\n",
        "\n",
        "        if f_c > f_d:\n",
        "            a = c\n",
        "            c = d\n",
        "            d = a + (b - a) * fibs[n - 1 - i] / fibs[n - i]\n",
        "            f_c = f_d\n",
        "            f_d = function(d)\n",
        "        else:\n",
        "            b = d\n",
        "            d = c\n",
        "            c = a + (b - a) * fibs[n - 2 - i] / fibs[n - i]\n",
        "            f_d = f_c\n",
        "            f_c = function(c)\n",
        "        iterations += 1\n",
        "    elapsed_time_milliseconds = round((time() - start_time) * 1000, 3)\n",
        "    print(\"\\nКоличество итераций:\", iterations)\n",
        "    print(\"Количество вызовов функции:\", call_count)\n",
        "    print(\"Затраченное время (миллисекунды):\", elapsed_time_milliseconds)\n",
        "    RESULTS[\"Фибоначчи\"] = (iterations, call_count, elapsed_time_milliseconds)\n",
        "    return (a + b) / 2\n",
        "\n",
        "drop_call_counter()\n",
        "res_x = fibonacci_method()\n",
        "print(\"Результат: x = {}, f(x) = {}\".format(truncate(res_x, 5), truncate(function(res_x), 3)))"
      ],
      "execution_count": null,
      "outputs": [
        {
          "output_type": "stream",
          "text": [
            "          a                       b                  f(a)                  f(b)\n",
            "-------------------------------------------------------------------------------------\n",
            "0                    | 1                    | inf                | 8103.083927575384\n",
            "0                    | 0.618033988749989    | inf                | 260.76977372545804\n",
            "0                    | 0.3819660112500109   | inf                | 31.80936896355793\n",
            "0                    | 0.23606797749997818  | inf                | 9.411010609654976\n",
            "0                    | 0.1458980337500327   | inf                | 5.106098716137925\n",
            "0                    | 0.09016994374994548  | inf                | 3.9869535626284067\n",
            "0.03444185374985826  | 0.09016994374994548  | 3.7932400222217293 | 3.9869535626284067\n",
            "0.03444185374985826  | 0.06888370749971652  | 3.7932400222217293 | 3.7886880550823596\n",
            "0.03444185374985826  | 0.05572809000008722  | 3.7932400222217293 | 3.7340091512225806\n",
            "0.042572472500457925 | 0.05572809000008722  | 3.7438690070610234 | 3.7340091512225806\n",
            "0.04759747124948756  | 0.05572809000008722  | 3.73125057914839   | 3.7340091512225806\n",
            "0.04759747124948756  | 0.0526224699985172   | 3.73125057914839   | 3.7298567447276625\n",
            "0.04951684999694717  | 0.0526224699985172   | 3.7294757451359386 | 3.7298567447276625\n",
            "0.04951684999694717  | 0.05143622874440679  | 3.7294757451359386 | 3.729251526488847\n",
            "0.05024998749029637  | 0.05143622874440679  | 3.72921116002753   | 3.729251526488847\n",
            "0.05024998749029637  | 0.05098312498364557  | 3.72921116002753   | 3.7291685722620596\n",
            "0.05053002122288436  | 0.05098312498364557  | 3.7291689077712604 | 3.7291685722620596\n",
            "0.05070309125105758  | 0.05098312498364557  | 3.7291588906891127 | 3.7291685722620596\n",
            "0.05070309125105758  | 0.050876161279230815 | 3.7291588906891127 | 3.7291611075140434\n",
            "0.05070309125105758  | 0.05081005495547234  | 3.7291588906891127 | 3.729158820024059\n",
            "0.050743948631713866 | 0.05081005495547234  | 3.7291583127822356 | 3.729158820024059\n",
            "0.050743948631713866 | 0.05078480601237015  | 3.7291583127822356 | 3.729158416005876\n",
            "0.050743948631713866 | 0.05076919757481606  | 3.7291583127822356 | 3.729158296213962\n",
            "0.050753589137261974 | 0.05076919757481606  | 3.7291582757662267 | 3.729158296213962\n",
            "0.050753589137261974 | 0.05076322964281008  | 3.7291582757662267 | 3.729158276663148\n",
            "0.050753589137261974 | 0.05075955706926795  | 3.7291582757662267 | 3.729158271851568\n",
            "0.05075588449572581  | 0.05075955706926795  | 3.729158272541296  | 3.729158271851568\n",
            "0.05075726171080411  | 0.05075955706926795  | 3.7291582716379326 | 3.729158271851568\n",
            "0.05075726171080411  | 0.050758638925882414 | 3.7291582716379326 | 3.729158271508233\n",
            "0.05075772078249688  | 0.050758638925882414 | 3.7291582715087377 | 3.729158271508233\n",
            "\n",
            "Количество итераций: 30\n",
            "Количество вызовов функции: 32\n",
            "Затраченное время (миллисекунды): 2.028\n",
            "Результат: x = 0.05075, f(x) = 3.729\n"
          ],
          "name": "stdout"
        }
      ]
    },
    {
      "cell_type": "markdown",
      "metadata": {
        "id": "a_SgjkVAUWUf"
      },
      "source": [
        "# **Метод касательных**"
      ]
    },
    {
      "cell_type": "code",
      "metadata": {
        "colab": {
          "base_uri": "https://localhost:8080/"
        },
        "id": "GUKXHphSQfsN",
        "outputId": "d566827c-14b6-489f-a8e5-1b7f7edbca3d"
      },
      "source": [
        "def tangent_method(a=1.e-3, b=0.25, precision=PRECISION):\n",
        "    print(\" \"*10 + \"a\" + \" \"*23 + \"b\" + \" \"*21 + \"f'(a)\" + \" \"*19 + \"f'(b)\\n\" + \"-\"*93)\n",
        "    start_time = time()\n",
        "    iterations = 0\n",
        "    f_a = function(a)\n",
        "    f_b = function(b)\n",
        "    df_a = first_derivative(a)\n",
        "    df_b = first_derivative(b)\n",
        "    while abs(b - a) > precision:\n",
        "        print(\"{} | {} | {} | {}\".format(str(a).ljust(20), str(b).ljust(20), str(df_a).ljust(23), str(df_b)))\n",
        "        c = (f_b - f_a + df_a * a - df_b * b) / (df_a - df_b)\n",
        "        df_c = first_derivative(c)\n",
        "        f_c = function(c)\n",
        "        if df_c > 0:\n",
        "            b = c\n",
        "            df_b = df_c\n",
        "            f_b = f_c\n",
        "        elif df_c < 0:\n",
        "            a = c\n",
        "            df_a = df_c\n",
        "            f_a = f_c\n",
        "        else:\n",
        "            break\n",
        "        iterations += 1\n",
        "    elapsed_time_milliseconds = round((time() - start_time) * 1000, 3)\n",
        "    print(\"\\nКоличество итераций:\", iterations)\n",
        "    print(\"Количество вызовов функции:\", call_count)\n",
        "    print(\"Затраченное время (миллисекунды):\", elapsed_time_milliseconds)\n",
        "    RESULTS[\"Касательные\"] = (iterations, call_count, elapsed_time_milliseconds)\n",
        "    return (a + b) / 2\n",
        "\n",
        "drop_call_counter()\n",
        "res_x = tangent_method()\n",
        "print(\"Результат: x = {}, f(x) = {}\".format(truncate(res_x, 5), truncate(function(res_x), 3)))"
      ],
      "execution_count": null,
      "outputs": [
        {
          "output_type": "stream",
          "text": [
            "          a                       b                     f'(a)                   f'(b)\n",
            "---------------------------------------------------------------------------------------------\n",
            "0.001                | 0.25                 | -712.2661548485169      | 82.5042324454488\n",
            "0.021191681853299196 | 0.25                 | -23.148041151685575     | 82.5042324454488\n",
            "0.021191681853299196 | 0.1383706524964109   | -23.148041151685575     | 26.053759126603797\n",
            "0.021191681853299196 | 0.06473606415734617  | -23.148041151685575     | 4.973689172583224\n",
            "0.03689151978008933  | 0.06473606415734617  | -7.009134284113765      | 4.973689172583224\n",
            "0.049174433868320794 | 0.06473606415734617  | -0.6588336626391822     | 4.973689172583224\n",
            "0.049174433868320794 | 0.056577829354163646 | -0.6588336626391822     | 2.225992432114124\n",
            "0.049174433868320794 | 0.052774819878391596 | -0.6588336626391822     | 0.8033392515560074\n",
            "0.049174433868320794 | 0.05094867933001878  | -0.6588336626391822     | 0.07752310372527305\n",
            "0.050055008616658465 | 0.05094867933001878  | -0.28929639521942896    | 0.07752310372527305\n",
            "0.05050021387036823  | 0.05094867933001878  | -0.10555209077585204    | 0.07752310372527305\n",
            "0.050724039999992795 | 0.05094867933001878  | -0.013931500808778807   | 0.07752310372527305\n",
            "0.050724039999992795 | 0.050836258134656184 | -0.013931500808778807   | 0.03181646887276912\n",
            "0.050724039999992795 | 0.050780123669604216 | -0.013931500808778807   | 0.008947660985182182\n",
            "0.05075207548350579  | 0.050780123669604216 | -0.0024906244056666083  | 0.008947660985182182\n",
            "0.05075207548350579  | 0.05076609798895261  | -0.0024906244056666083  | 0.0032288420031836296\n",
            "0.05075207548350579  | 0.05075908633925617  | -0.0024906244056666083  | 0.00036918972923416504\n",
            "0.050755580812162124 | 0.05075908633925617  | -0.0010606970916864356  | 0.00036918972923416504\n",
            "0.0507573335510241   | 0.05075908633925617  | -0.00034574857127545044 | 0.00036918972923416504\n",
            "0.0507573335510241   | 0.05075820993910488  | -0.00034574857127545044 | 1.172191188203442e-05\n",
            "\n",
            "Количество итераций: 20\n",
            "Количество вызовов функции: 44\n",
            "Затраченное время (миллисекунды): 0.985\n",
            "Результат: x = 0.05075, f(x) = 3.729\n"
          ],
          "name": "stdout"
        }
      ]
    },
    {
      "cell_type": "markdown",
      "metadata": {
        "id": "r6Mdra89UlXx"
      },
      "source": [
        "# **Метод Ньютона-Рафсона**"
      ]
    },
    {
      "cell_type": "code",
      "metadata": {
        "colab": {
          "base_uri": "https://localhost:8080/"
        },
        "id": "EWpFwGArQh6-",
        "outputId": "892c892d-8d7f-4760-ecfe-b0bc5e9d8a27"
      },
      "source": [
        "def newton_raphson_method(x=1, precision=PRECISION):\n",
        "    print(\" \"*10 + \"x\" + \" \"*20 + \"f'(x)\" + \" \"*19 + \"f''(x)\\n\" + \"-\"*68)\n",
        "    start_time = time()\n",
        "    iterations = 0\n",
        "    df_x = first_derivative(x)\n",
        "    while abs(df_x) > precision:\n",
        "        d2f_x = second_derivative(x)\n",
        "        print(\"{} | {} | {}\".format(str(x).ljust(21), str(df_x).ljust(22), str(d2f_x)))\n",
        "        x = x - df_x / d2f_x\n",
        "        df_x = first_derivative(x)\n",
        "        iterations += 1\n",
        "    elapsed_time_milliseconds = round((time() - start_time) * 1000, 3)\n",
        "    print(\"\\nКоличество итераций:\", iterations)\n",
        "    print(\"Количество вызовов функции:\", call_count)\n",
        "    print(\"Затраченное время (миллисекунды):\", elapsed_time_milliseconds)\n",
        "    RESULTS[\"Ньютон-Рафсон\"] = (iterations, call_count, elapsed_time_milliseconds)\n",
        "    return x\n",
        "\n",
        "drop_call_counter()\n",
        "res_x = newton_raphson_method()\n",
        "print(\"Результат: x = {}, f(x) = {}\".format(truncate(res_x, 5), truncate(function(res_x), 3)))"
      ],
      "execution_count": null,
      "outputs": [
        {
          "output_type": "stream",
          "text": [
            "          x                    f'(x)                   f''(x)\n",
            "--------------------------------------------------------------------\n",
            "1                     | 72927.03400065801      | 656350.5194811266\n",
            "0.8888901100309786    | 26828.105224184703     | 241461.16360422038\n",
            "0.7777827798759781    | 9869.215317816963      | 88832.47724425694\n",
            "0.6666836005670389    | 3630.330551269909      | 32684.335855074474\n",
            "0.5556111110611438    | 1335.0881618234596     | 12029.814816380824\n",
            "0.4446295055915825    | 490.5800995462465      | 4433.470886017866\n",
            "0.333975773525038     | 179.6581842772364      | 1642.8297515427548\n",
            "0.22461679453861394   | 64.73878524853917      | 625.8496935851163\n",
            "0.1211753677677712    | 20.831029535341532     | 290.18206736627144\n",
            "0.0493893000606708    | -0.5678967561189179    | 422.0556975472506\n",
            "0.05073484937896981   | -0.009519427936504954  | 408.1173008455426\n",
            "0.05075817460413616   | -2.690743816202712e-06 | 407.88664560814004\n",
            "\n",
            "Количество итераций: 12\n",
            "Количество вызовов функции: 25\n",
            "Затраченное время (миллисекунды): 0.525\n",
            "Результат: x = 0.05075, f(x) = 3.729\n"
          ],
          "name": "stdout"
        }
      ]
    },
    {
      "cell_type": "markdown",
      "metadata": {
        "id": "gZOlsOu6Us5j"
      },
      "source": [
        "# **Метод секущих**"
      ]
    },
    {
      "cell_type": "code",
      "metadata": {
        "colab": {
          "base_uri": "https://localhost:8080/"
        },
        "id": "6Yg3YisQQjxc",
        "outputId": "085a379a-41a6-4e8e-b7b5-3a63cc8f65d1"
      },
      "source": [
        "def secant_method(x1=1.e-3, x2=5*1.e-3, precision=PRECISION):\n",
        "    print(\" \"*10 + \"x1\" + \" \"*22 + \"x2\" + \" \"*20 + \"f'(x1)\" + \" \"*18 + \"f'(x2)\\n\" + \"-\"*93)\n",
        "    start_time = time()\n",
        "    iterations = 0\n",
        "    df_x1 = first_derivative(x1)\n",
        "    df_x2 = first_derivative(x2)\n",
        "    while abs(x2 - x1) > precision:\n",
        "        print(\"{} | {} | {} | {}\".format(str(x1).ljust(20), str(x2).ljust(20), str(df_x1).ljust(22), str(df_x2)))\n",
        "        x1, x2 = x2, x2 - (x2 - x1) / (df_x2 - df_x1) * df_x2\n",
        "        df_x1 = df_x2\n",
        "        df_x2 = first_derivative(x2)\n",
        "        iterations += 1\n",
        "    elapsed_time_milliseconds = round((time() - start_time) * 1000, 3)\n",
        "    print(\"\\nКоличество итераций:\", iterations)\n",
        "    print(\"Количество вызовов функции:\", call_count)\n",
        "    print(\"Затраченное время (миллисекунды):\", elapsed_time_milliseconds)\n",
        "    RESULTS[\"Секущие\"] = (iterations, call_count, elapsed_time_milliseconds)\n",
        "    return (x1 + x2) / 2\n",
        "\n",
        "drop_call_counter()\n",
        "res_x = secant_method()\n",
        "print(\"Результат: x = {}, f(x) = {}\".format(truncate(res_x, 5), truncate(function(res_x), 3)))"
      ],
      "execution_count": null,
      "outputs": [
        {
          "output_type": "stream",
          "text": [
            "          x1                      x2                    f'(x1)                  f'(x2)\n",
            "---------------------------------------------------------------------------------------------\n",
            "0.001                | 0.005                | -712.2661548485169     | -134.85525334971788\n",
            "0.005                | 0.005934206493155366 | -134.85525334971788    | -112.0637980543561\n",
            "0.005934206493155366 | 0.010527626546123044 | -112.0637980543561     | -58.6250399615824\n",
            "0.010527626546123044 | 0.015566842347097636 | -58.6250399615824      | -35.98520231998593\n",
            "0.015566842347097636 | 0.023576493432181718 | -35.98520231998593     | -19.46862018802443\n",
            "0.023576493432181718 | 0.033017723679954585 | -19.46862018802443     | -9.733012080465286\n",
            "0.033017723679954585 | 0.042456436397312114 | -9.733012080465286     | -3.801966256502215\n",
            "0.042456436397312114 | 0.04850691523718612  | -3.801966256502215     | -0.9446175127837204\n",
            "0.04850691523718612  | 0.05050715699466737  | -0.9446175127837204    | -0.10270247406164579\n",
            "0.05050715699466737  | 0.050751159973313    | -0.10270247406164579   | -0.0028641081143927494\n",
            "0.050751159973313    | 0.050758159796521686 | -0.0028641081143927494 | -8.730573096471517e-06\n",
            "\n",
            "Количество итераций: 11\n",
            "Количество вызовов функции: 13\n",
            "Затраченное время (миллисекунды): 0.523\n",
            "Результат: x = 0.05075, f(x) = 3.729\n"
          ],
          "name": "stdout"
        }
      ]
    },
    {
      "cell_type": "markdown",
      "metadata": {
        "id": "-T6MedlJqEFe"
      },
      "source": [
        "# **Результаты**"
      ]
    },
    {
      "cell_type": "markdown",
      "metadata": {
        "id": "gzObpdK6Y9pB"
      },
      "source": [
        "Все результаты"
      ]
    },
    {
      "cell_type": "code",
      "metadata": {
        "colab": {
          "base_uri": "https://localhost:8080/",
          "height": 398
        },
        "id": "XYDAUiniqHfK",
        "outputId": "f681ef04-8487-4ab0-b75a-6b2cb1f2a679"
      },
      "source": [
        "def show_all_results():\n",
        "    fig, ax = plt.subplots()\n",
        "    for method, (iter, oper, time) in RESULTS.items():\n",
        "        ax.bar(method, oper)\n",
        "    plt.xlabel('Методы')\n",
        "    plt.ylabel('Вызовы функции')\n",
        "    ax.set_facecolor('seashell')\n",
        "    fig.set_facecolor('floralwhite')\n",
        "    fig.set_figwidth(12)\n",
        "    fig.set_figheight(6)\n",
        "    rects = ax.patches\n",
        "    for rect, stats in zip(rects, RESULTS.values()):\n",
        "        height = rect.get_height()\n",
        "        ax.text(rect.get_x() + rect.get_width() / 2, height, \"{:.1f} ms\".format(stats[2]), ha='center', va='bottom')\n",
        "    plt.show()\n",
        "\n",
        "show_all_results()"
      ],
      "execution_count": null,
      "outputs": [
        {
          "output_type": "display_data",
          "data": {
            "image/png": "[encoded data removed]",
            "text/plain": [
              "<Figure size 864x432 with 1 Axes>"
            ]
          },
          "metadata": {
            "tags": []
          }
        }
      ]
    },
    {
      "cell_type": "markdown",
      "metadata": {
        "id": "SI9YnpS1ZBGW"
      },
      "source": [
        "Результаты без учета метода пассивного поиска"
      ]
    },
    {
      "cell_type": "code",
      "metadata": {
        "colab": {
          "base_uri": "https://localhost:8080/",
          "height": 387
        },
        "id": "Ou4aFOrBqbw_",
        "outputId": "332a3461-b72e-4c8a-deaf-e75b31bb65cb"
      },
      "source": [
        "def show_results_without_passive_search():\n",
        "    RESULTS.pop(\"Пассивный поиск\", None)\n",
        "    fig, ax = plt.subplots()\n",
        "    for method, (iter, oper, time) in RESULTS.items():\n",
        "        ax.bar(method, oper)\n",
        "    plt.xlabel('Методы')\n",
        "    plt.ylabel('Вызовы функции')\n",
        "    ax.set_facecolor('seashell')\n",
        "    fig.set_facecolor('floralwhite')\n",
        "    fig.set_figwidth(12)\n",
        "    fig.set_figheight(6)\n",
        "    rects = ax.patches\n",
        "    for rect, stats in zip(rects, RESULTS.values()):\n",
        "        height = rect.get_height()\n",
        "        ax.text(rect.get_x() + rect.get_width() / 2, height, \"{:.1f} ms\".format(stats[2]), ha='center', va='bottom')\n",
        "    plt.show()\n",
        "\n",
        "show_results_without_passive_search()"
      ],
      "execution_count": null,
      "outputs": [
        {
          "output_type": "display_data",
          "data": {
            "image/png": "[encoded data removed]",
            "text/plain": [
              "<Figure size 864x432 with 1 Axes>"
            ]
          },
          "metadata": {
            "tags": []
          }
        }
      ]
    }
  ]
}